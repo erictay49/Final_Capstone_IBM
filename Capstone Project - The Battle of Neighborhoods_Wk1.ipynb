{
    "cells": [
        {
            "cell_type": "markdown",
            "metadata": {
                "collapsed": true
            },
            "source": "# Cousera-Capstone-Project Wk 1\n***"
        },
        {
            "cell_type": "markdown",
            "metadata": {},
            "source": "This is the capstone project for IBM's Data Science Professional Certificate. In this project, we will try and use location data to solve an interesting business problem."
        },
        {
            "cell_type": "markdown",
            "metadata": {},
            "source": "# Introduction/Business Problem:\n***"
        },
        {
            "cell_type": "markdown",
            "metadata": {},
            "source": "A business owner is looking to open up a coffee shop (mid-high range) in Toronto, and is looking for advice as to where to open up at. The project will be focused on generating the data required to convince the business owner to open the business at a specific neighbourhood/location, based on factors such as customer profiles and proximity of competing businesses. \n\nIdeally, we would want to target a location with middle to high levels of income, and with few competing businesses to avoid cannibalizing on market share. This is to ensure that the business is able to compete sustainably and draw customers that fit its cus"
        },
        {
            "cell_type": "markdown",
            "metadata": {},
            "source": "# Data Sources:\n***"
        },
        {
            "cell_type": "markdown",
            "metadata": {},
            "source": "In order to do this project, we need the following data:<br>\n\n## 1. FourSquare Api\n* to get number of coffee shops/cafes per FSA\n* a sample query looks like this: https://api.foursquare.com/v2/venues/explore?client_id=\n\n## 2. Wikipedia (Postal Codes)\n* to get neighborhood names for each FSA\n* Source: https://en.wikipedia.org/wiki/List_of_postal_codes_of_Canada:_M\n\n## 3. Neighborhood Profiles\n* to understand neighborhood profiles for Toronto\n* Main source from Canadian Census, but incorporates other data sources as well\n* Source: https://ckan0.cf.opendata.inter.prod-toronto.ca/download_resource/ef0239b1-832b-4d0b-a1f3-4153e53b189e?format=csv\n\n## 4. Toronto Geospatial Data\n* As geopy is a little unreliable, I would be falling back on the geospatial data provided as part of the course.\n* Source: \"http://cocl.us/Geospatial_data\"\n\nFirst, I will combine sources 2 and 4 to create the geospatial profile of all the neighborhoods in Toronto. Afterwhich, I will add on the neighborhood profile (income levels) from source 3 to complete the picture and narrow down the neighbourhoods to ~1/2 based on income levels. Following which, I will then extract coffee shops/cafes per FSA from the Foursquare API data. This will help me do a k-means clustering of the data, where I can weed out the areas with large numbers of coffee shops and cafes. \n\nFrom there, I can then suggest a few locations for the business owner to set up at. \n"
        },
        {
            "cell_type": "code",
            "execution_count": null,
            "metadata": {},
            "outputs": [],
            "source": ""
        }
    ],
    "metadata": {
        "kernelspec": {
            "display_name": "Python 3.6",
            "language": "python",
            "name": "python3"
        },
        "language_info": {
            "codemirror_mode": {
                "name": "ipython",
                "version": 3
            },
            "file_extension": ".py",
            "mimetype": "text/x-python",
            "name": "python",
            "nbconvert_exporter": "python",
            "pygments_lexer": "ipython3",
            "version": "3.6.9"
        }
    },
    "nbformat": 4,
    "nbformat_minor": 1
}